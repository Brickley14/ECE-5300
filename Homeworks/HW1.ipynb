{
 "cells": [
  {
   "cell_type": "code",
   "execution_count": 16,
   "metadata": {},
   "outputs": [],
   "source": [
    "#Problem 2 of HW1"
   ]
  },
  {
   "cell_type": "code",
   "execution_count": 1,
   "metadata": {},
   "outputs": [],
   "source": [
    "import pandas as pd\n",
    "import numpy as np\n",
    "import matplotlib\n",
    "import matplotlib.pyplot as plt\n",
    "%matplotlib inline"
   ]
  },
  {
   "cell_type": "code",
   "execution_count": 2,
   "metadata": {},
   "outputs": [],
   "source": [
    "x = np.array([0, 1, 2, 3, 4])\n",
    "y = np.array([0, 0.5, 1, 0.5, 3])"
   ]
  },
  {
   "cell_type": "code",
   "execution_count": 3,
   "metadata": {},
   "outputs": [
    {
     "name": "stdout",
     "output_type": "stream",
     "text": [
      "Xm = 2.0\n",
      "Ym = 1.0\n"
     ]
    }
   ],
   "source": [
    "xm = np.mean(x)\n",
    "ym = np.mean(y)\n",
    "print(f'Xm = {xm}')\n",
    "print(f'Ym = {ym}')"
   ]
  },
  {
   "cell_type": "code",
   "execution_count": 4,
   "metadata": {},
   "outputs": [
    {
     "name": "stdout",
     "output_type": "stream",
     "text": [
      "Sxx = 2.0\n",
      "Syy = 1.1\n",
      "Sxy = 1.2\n"
     ]
    }
   ],
   "source": [
    "sxx = np.mean((x - xm)**2)\n",
    "syy = np.mean((y - ym)**2)\n",
    "sxy = np.mean((x - xm)*(y - ym))\n",
    "print(f'Sxx = {sxx}')\n",
    "print(f'Syy = {syy}')\n",
    "print(f'Sxy = {sxy}')"
   ]
  },
  {
   "cell_type": "code",
   "execution_count": 5,
   "metadata": {},
   "outputs": [
    {
     "name": "stdout",
     "output_type": "stream",
     "text": [
      "B0 = -0.19999999999999996\n",
      "B1 = 0.6\n"
     ]
    }
   ],
   "source": [
    "b1 = sxy/sxx\n",
    "b0 = ym - b1*xm\n",
    "print(f'B0 = {b0}')\n",
    "print(f'B1 = {b1}')"
   ]
  },
  {
   "cell_type": "code",
   "execution_count": 6,
   "metadata": {},
   "outputs": [
    {
     "data": {
      "image/png": "[encoded data removed]",
      "text/plain": [
       "<Figure size 432x288 with 1 Axes>"
      ]
     },
     "metadata": {
      "needs_background": "light"
     },
     "output_type": "display_data"
    }
   ],
   "source": [
    "xplt = np.array([-1,5])\n",
    "yplt = b0 + b1*xplt\n",
    "plt.plot(x,y, 'o')\n",
    "plt.plot(xplt, yplt, '-', linewidth = 3)\n",
    "plt.grid(True)"
   ]
  },
  {
   "cell_type": "code",
   "execution_count": 8,
   "metadata": {
    "scrolled": true
   },
   "outputs": [
    {
     "name": "stdout",
     "output_type": "stream",
     "text": [
      "R^2 = 0.6545454545454544\n"
     ]
    }
   ],
   "source": [
    "r2 = (sxy)**2/sxx/syy\n",
    "print(f'R^2 = {r2}')"
   ]
  },
  {
   "cell_type": "code",
   "execution_count": 14,
   "metadata": {
    "scrolled": false
   },
   "outputs": [],
   "source": [
    "# Linear regression is not effective on the database.\n",
    "# While there is some correlation, it does not have a very strong\n",
    "# correlation value (R^2) still"
   ]
  }
 ],
 "metadata": {
  "kernelspec": {
   "display_name": "Python 3",
   "language": "python",
   "name": "python3"
  },
  "language_info": {
   "codemirror_mode": {
    "name": "ipython",
    "version": 3
   },
   "file_extension": ".py",
   "mimetype": "text/x-python",
   "name": "python",
   "nbconvert_exporter": "python",
   "pygments_lexer": "ipython3",
   "version": "3.7.8"
  }
 },
 "nbformat": 4,
 "nbformat_minor": 4
}
